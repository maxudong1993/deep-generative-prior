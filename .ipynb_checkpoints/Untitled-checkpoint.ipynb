{
 "cells": [
  {
   "cell_type": "code",
   "execution_count": null,
   "id": "62ac6516",
   "metadata": {},
   "outputs": [],
   "source": [
    "import torch\n",
    "import torch.multiprocessing as mp\n",
    "\n",
    "import utils\n",
    "from trainer import Trainer\n",
    "from utils import dist_init\n",
    "\n",
    "\n",
    "def main():\n",
    "    parser = utils.prepare_parser()\n",
    "    parser = utils.add_dgp_parser(parser)\n",
    "    config = vars(parser.parse_args())\n",
    "    utils.dgp_update_config(config)\n",
    "    print(config)\n",
    "\n",
    "    rank = 0\n",
    "    if mp.get_start_method(allow_none=True) != 'spawn':\n",
    "        mp.set_start_method('spawn', force=True)\n",
    "    if config['dist']:\n",
    "        rank, world_size = dist_init(config['port'])\n",
    "\n",
    "    # Seed RNG\n",
    "    utils.seed_rng(rank + config['seed'])\n",
    "\n",
    "    # Setup cudnn.benchmark for free speed\n",
    "    torch.backends.cudnn.benchmark = True\n",
    "\n",
    "    # train\n",
    "    trainer = Trainer(config)\n",
    "    trainer.run()\n",
    "\n",
    "\n",
    "if __name__ == '__main__':\n",
    "    main()"
   ]
  }
 ],
 "metadata": {
  "kernelspec": {
   "display_name": "Python 3",
   "language": "python",
   "name": "python3"
  },
  "language_info": {
   "codemirror_mode": {
    "name": "ipython",
    "version": 3
   },
   "file_extension": ".py",
   "mimetype": "text/x-python",
   "name": "python",
   "nbconvert_exporter": "python",
   "pygments_lexer": "ipython3",
   "version": "3.6.13"
  }
 },
 "nbformat": 4,
 "nbformat_minor": 5
}
